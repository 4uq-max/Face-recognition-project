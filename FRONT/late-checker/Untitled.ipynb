{
 "cells": [
  {
   "cell_type": "code",
   "execution_count": 2,
   "metadata": {},
   "outputs": [
    {
     "name": "stdout",
     "output_type": "stream",
     "text": [
      "[(53, datetime.date(2019, 10, 4), 'maxim', datetime.time(14, 50), 'C:\\\\Users\\\\MediaMonster\\\\Documents\\\\GitHub\\\\Face-recognition-project\\\\API/assets/img/history/2019-10-4/maxim/arrival.jpg', datetime.time(16, 5), None, 'C:\\\\Users\\\\MediaMonster\\\\Documents\\\\GitHub\\\\Face-recognition-project\\\\API/assets/img/history/2019-10-4/maxim/departure.jpg', True, True), (61, datetime.date(2019, 10, 9), 'maxim', datetime.time(16, 23), '/Users/maxim/Becode/Data-Scientist-Bouman/Face-recognition-project/API/assets/img/history/2019-10-9/maxim/arrival.jpg', datetime.time(18, 45), None, '/Users/maxim/Becode/Data-Scientist-Bouman/Face-recognition-project/API/assets/img/2019-10-9/maxim/departure.jpg', None, None)]\n"
     ]
    }
   ],
   "source": [
    "import psycopg2\n",
    "def DATABASE_CONNECTION():\n",
    "    return psycopg2.connect(user=\"tuuiojqb\",\n",
    "                                  password=\"0ocbMkkVWOKIrfMenjjakNLT5JNQpWu8\",\n",
    "                                  host=\"manny.db.elephantsql.com\",\n",
    "                                  port=\"5432\",\n",
    "                                  database=\"tuuiojqb\")\n",
    "\n",
    "connection = DATABASE_CONNECTION()\n",
    "cursor = connection.cursor()\n",
    "sql_query = f\"SELECT * FROM users WHERE name = 'maxim'\"\n",
    "cursor.execute(sql_query)\n",
    "result = cursor.fetchall()\n",
    "connection.commit()\n",
    "print(result)\n",
    "\n"
   ]
  },
  {
   "cell_type": "code",
   "execution_count": null,
   "metadata": {},
   "outputs": [],
   "source": []
  }
 ],
 "metadata": {
  "kernelspec": {
   "display_name": "PyCharm (03-Recurent_Neural_Networks)",
   "language": "python",
   "name": "pycharm-f959603d"
  },
  "language_info": {
   "codemirror_mode": {
    "name": "ipython",
    "version": 3
   },
   "file_extension": ".py",
   "mimetype": "text/x-python",
   "name": "python",
   "nbconvert_exporter": "python",
   "pygments_lexer": "ipython3",
   "version": "3.7.4"
  }
 },
 "nbformat": 4,
 "nbformat_minor": 2
}
